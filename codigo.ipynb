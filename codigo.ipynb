{
 "cells": [
  {
   "cell_type": "code",
   "execution_count": 13,
   "metadata": {},
   "outputs": [
    {
     "name": "stdout",
     "output_type": "stream",
     "text": [
      "<class 'pandas.core.frame.DataFrame'>\n",
      "RangeIndex: 100000 entries, 0 to 99999\n",
      "Data columns (total 25 columns):\n",
      " #   Column                    Non-Null Count   Dtype  \n",
      "---  ------                    --------------   -----  \n",
      " 0   id_cliente                100000 non-null  int64  \n",
      " 1   mes                       100000 non-null  int64  \n",
      " 2   idade                     100000 non-null  float64\n",
      " 3   profissao                 100000 non-null  object \n",
      " 4   salario_anual             100000 non-null  float64\n",
      " 5   num_contas                100000 non-null  float64\n",
      " 6   num_cartoes               100000 non-null  float64\n",
      " 7   juros_emprestimo          100000 non-null  float64\n",
      " 8   num_emprestimos           100000 non-null  float64\n",
      " 9   dias_atraso               100000 non-null  float64\n",
      " 10  num_pagamentos_atrasados  100000 non-null  float64\n",
      " 11  num_verificacoes_credito  100000 non-null  float64\n",
      " 12  mix_credito               100000 non-null  object \n",
      " 13  divida_total              100000 non-null  float64\n",
      " 14  taxa_uso_credito          100000 non-null  float64\n",
      " 15  idade_historico_credito   100000 non-null  float64\n",
      " 16  investimento_mensal       100000 non-null  float64\n",
      " 17  comportamento_pagamento   100000 non-null  object \n",
      " 18  saldo_final_mes           100000 non-null  float64\n",
      " 19  score_credito             100000 non-null  object \n",
      " 20  emprestimo_carro          100000 non-null  int64  \n",
      " 21  emprestimo_casa           100000 non-null  int64  \n",
      " 22  emprestimo_pessoal        100000 non-null  int64  \n",
      " 23  emprestimo_credito        100000 non-null  int64  \n",
      " 24  emprestimo_estudantil     100000 non-null  int64  \n",
      "dtypes: float64(14), int64(7), object(4)\n",
      "memory usage: 19.1+ MB\n"
     ]
    },
    {
     "data": {
      "text/plain": [
       "None"
      ]
     },
     "metadata": {},
     "output_type": "display_data"
    }
   ],
   "source": [
    "import pandas as pd\n",
    "from sklearn.preprocessing import LabelEncoder\n",
    "from sklearn.model_selection import train_test_split\n",
    "\n",
    "tabela = pd.read_csv('clientes.csv')\n",
    "display(tabela.info())"
   ]
  },
  {
   "cell_type": "markdown",
   "metadata": {},
   "source": [
    "Preparar a Base de Dados Para a Inteligência Artificial"
   ]
  },
  {
   "cell_type": "code",
   "execution_count": 14,
   "metadata": {},
   "outputs": [
    {
     "name": "stdout",
     "output_type": "stream",
     "text": [
      "<class 'pandas.core.frame.DataFrame'>\n",
      "RangeIndex: 100000 entries, 0 to 99999\n",
      "Data columns (total 25 columns):\n",
      " #   Column                    Non-Null Count   Dtype  \n",
      "---  ------                    --------------   -----  \n",
      " 0   id_cliente                100000 non-null  int64  \n",
      " 1   mes                       100000 non-null  int64  \n",
      " 2   idade                     100000 non-null  float64\n",
      " 3   profissao                 100000 non-null  int32  \n",
      " 4   salario_anual             100000 non-null  float64\n",
      " 5   num_contas                100000 non-null  float64\n",
      " 6   num_cartoes               100000 non-null  float64\n",
      " 7   juros_emprestimo          100000 non-null  float64\n",
      " 8   num_emprestimos           100000 non-null  float64\n",
      " 9   dias_atraso               100000 non-null  float64\n",
      " 10  num_pagamentos_atrasados  100000 non-null  float64\n",
      " 11  num_verificacoes_credito  100000 non-null  float64\n",
      " 12  mix_credito               100000 non-null  int32  \n",
      " 13  divida_total              100000 non-null  float64\n",
      " 14  taxa_uso_credito          100000 non-null  float64\n",
      " 15  idade_historico_credito   100000 non-null  float64\n",
      " 16  investimento_mensal       100000 non-null  float64\n",
      " 17  comportamento_pagamento   100000 non-null  int32  \n",
      " 18  saldo_final_mes           100000 non-null  float64\n",
      " 19  score_credito             100000 non-null  object \n",
      " 20  emprestimo_carro          100000 non-null  int64  \n",
      " 21  emprestimo_casa           100000 non-null  int64  \n",
      " 22  emprestimo_pessoal        100000 non-null  int64  \n",
      " 23  emprestimo_credito        100000 non-null  int64  \n",
      " 24  emprestimo_estudantil     100000 non-null  int64  \n",
      "dtypes: float64(14), int32(3), int64(7), object(1)\n",
      "memory usage: 17.9+ MB\n"
     ]
    },
    {
     "data": {
      "text/plain": [
       "None"
      ]
     },
     "metadata": {},
     "output_type": "display_data"
    }
   ],
   "source": [
    "#tratar colunas de texto: profissao, mix_credito e comportamento_pagamento\n",
    "\n",
    "codificador = LabelEncoder() \n",
    "tabela['profissao'] = codificador.fit_transform(tabela['profissao']) # codifica a coluna transformando os textos em numeros\n",
    "tabela['mix_credito'] = codificador.fit_transform(tabela['mix_credito'])\n",
    "tabela['comportamento_pagamento'] = codificador.fit_transform(tabela['comportamento_pagamento'])\n",
    "display(tabela.info())\n",
    "\n",
    "# agora ao inves de object, as colunas são classificadas como int\n"
   ]
  },
  {
   "cell_type": "code",
   "execution_count": 15,
   "metadata": {},
   "outputs": [],
   "source": [
    "x = tabela.drop(columns=['score_credito', 'id_cliente']) #quem a ia usa para fazer a previsão\n",
    "y = tabela['score_credito'] #quem a ia quer prever\n",
    "\n",
    "x_train, x_test, y_train, y_test = train_test_split(x, y, test_size=0.3)\n"
   ]
  },
  {
   "cell_type": "markdown",
   "metadata": {},
   "source": [
    "Criar o Modelo de IA -> Nota de Crédito: Ruim, Média ou Boa"
   ]
  },
  {
   "cell_type": "code",
   "execution_count": 16,
   "metadata": {},
   "outputs": [
    {
     "data": {
      "text/html": [
       "<style>#sk-container-id-1 {color: black;background-color: white;}#sk-container-id-1 pre{padding: 0;}#sk-container-id-1 div.sk-toggleable {background-color: white;}#sk-container-id-1 label.sk-toggleable__label {cursor: pointer;display: block;width: 100%;margin-bottom: 0;padding: 0.3em;box-sizing: border-box;text-align: center;}#sk-container-id-1 label.sk-toggleable__label-arrow:before {content: \"▸\";float: left;margin-right: 0.25em;color: #696969;}#sk-container-id-1 label.sk-toggleable__label-arrow:hover:before {color: black;}#sk-container-id-1 div.sk-estimator:hover label.sk-toggleable__label-arrow:before {color: black;}#sk-container-id-1 div.sk-toggleable__content {max-height: 0;max-width: 0;overflow: hidden;text-align: left;background-color: #f0f8ff;}#sk-container-id-1 div.sk-toggleable__content pre {margin: 0.2em;color: black;border-radius: 0.25em;background-color: #f0f8ff;}#sk-container-id-1 input.sk-toggleable__control:checked~div.sk-toggleable__content {max-height: 200px;max-width: 100%;overflow: auto;}#sk-container-id-1 input.sk-toggleable__control:checked~label.sk-toggleable__label-arrow:before {content: \"▾\";}#sk-container-id-1 div.sk-estimator input.sk-toggleable__control:checked~label.sk-toggleable__label {background-color: #d4ebff;}#sk-container-id-1 div.sk-label input.sk-toggleable__control:checked~label.sk-toggleable__label {background-color: #d4ebff;}#sk-container-id-1 input.sk-hidden--visually {border: 0;clip: rect(1px 1px 1px 1px);clip: rect(1px, 1px, 1px, 1px);height: 1px;margin: -1px;overflow: hidden;padding: 0;position: absolute;width: 1px;}#sk-container-id-1 div.sk-estimator {font-family: monospace;background-color: #f0f8ff;border: 1px dotted black;border-radius: 0.25em;box-sizing: border-box;margin-bottom: 0.5em;}#sk-container-id-1 div.sk-estimator:hover {background-color: #d4ebff;}#sk-container-id-1 div.sk-parallel-item::after {content: \"\";width: 100%;border-bottom: 1px solid gray;flex-grow: 1;}#sk-container-id-1 div.sk-label:hover label.sk-toggleable__label {background-color: #d4ebff;}#sk-container-id-1 div.sk-serial::before {content: \"\";position: absolute;border-left: 1px solid gray;box-sizing: border-box;top: 0;bottom: 0;left: 50%;z-index: 0;}#sk-container-id-1 div.sk-serial {display: flex;flex-direction: column;align-items: center;background-color: white;padding-right: 0.2em;padding-left: 0.2em;position: relative;}#sk-container-id-1 div.sk-item {position: relative;z-index: 1;}#sk-container-id-1 div.sk-parallel {display: flex;align-items: stretch;justify-content: center;background-color: white;position: relative;}#sk-container-id-1 div.sk-item::before, #sk-container-id-1 div.sk-parallel-item::before {content: \"\";position: absolute;border-left: 1px solid gray;box-sizing: border-box;top: 0;bottom: 0;left: 50%;z-index: -1;}#sk-container-id-1 div.sk-parallel-item {display: flex;flex-direction: column;z-index: 1;position: relative;background-color: white;}#sk-container-id-1 div.sk-parallel-item:first-child::after {align-self: flex-end;width: 50%;}#sk-container-id-1 div.sk-parallel-item:last-child::after {align-self: flex-start;width: 50%;}#sk-container-id-1 div.sk-parallel-item:only-child::after {width: 0;}#sk-container-id-1 div.sk-dashed-wrapped {border: 1px dashed gray;margin: 0 0.4em 0.5em 0.4em;box-sizing: border-box;padding-bottom: 0.4em;background-color: white;}#sk-container-id-1 div.sk-label label {font-family: monospace;font-weight: bold;display: inline-block;line-height: 1.2em;}#sk-container-id-1 div.sk-label-container {text-align: center;}#sk-container-id-1 div.sk-container {/* jupyter's `normalize.less` sets `[hidden] { display: none; }` but bootstrap.min.css set `[hidden] { display: none !important; }` so we also need the `!important` here to be able to override the default hidden behavior on the sphinx rendered scikit-learn.org. See: https://github.com/scikit-learn/scikit-learn/issues/21755 */display: inline-block !important;position: relative;}#sk-container-id-1 div.sk-text-repr-fallback {display: none;}</style><div id=\"sk-container-id-1\" class=\"sk-top-container\"><div class=\"sk-text-repr-fallback\"><pre>KNeighborsClassifier()</pre><b>In a Jupyter environment, please rerun this cell to show the HTML representation or trust the notebook. <br />On GitHub, the HTML representation is unable to render, please try loading this page with nbviewer.org.</b></div><div class=\"sk-container\" hidden><div class=\"sk-item\"><div class=\"sk-estimator sk-toggleable\"><input class=\"sk-toggleable__control sk-hidden--visually\" id=\"sk-estimator-id-1\" type=\"checkbox\" checked><label for=\"sk-estimator-id-1\" class=\"sk-toggleable__label sk-toggleable__label-arrow\">KNeighborsClassifier</label><div class=\"sk-toggleable__content\"><pre>KNeighborsClassifier()</pre></div></div></div></div></div>"
      ],
      "text/plain": [
       "KNeighborsClassifier()"
      ]
     },
     "execution_count": 16,
     "metadata": {},
     "output_type": "execute_result"
    }
   ],
   "source": [
    "# Random Florest -> Arvore de Decisão\n",
    "# Neirest Neighbors -> KNN -> Vizinhos Próximos\n",
    "\n",
    "# - Importar IA\n",
    "from sklearn.ensemble import RandomForestClassifier\n",
    "from sklearn.neighbors import KNeighborsClassifier\n",
    "\n",
    "# - Criar IA\n",
    "model_randomflorest = RandomForestClassifier()\n",
    "model_knn = KNeighborsClassifier()\n",
    "\n",
    "# - Treinar IA\n",
    "model_randomflorest.fit(x_train, y_train) #Perguntas pra base de dados \n",
    "model_knn.fit(x_train, y_train) # Separa a base de dados de acordo com os vizinhos próximos"
   ]
  },
  {
   "cell_type": "markdown",
   "metadata": {},
   "source": [
    "Escolher o Modelo"
   ]
  },
  {
   "cell_type": "code",
   "execution_count": 17,
   "metadata": {},
   "outputs": [
    {
     "data": {
      "text/plain": [
       "0.8282666666666667"
      ]
     },
     "metadata": {},
     "output_type": "display_data"
    },
    {
     "data": {
      "text/plain": [
       "0.7396666666666667"
      ]
     },
     "metadata": {},
     "output_type": "display_data"
    }
   ],
   "source": [
    "previsao_randomflorest = model_randomflorest.predict(x_test)\n",
    "previsao_knn = model_knn.predict(x_test)\n",
    "\n",
    "# calcular acurácia\n",
    "\n",
    "from sklearn.metrics import accuracy_score\n",
    "\n",
    "display(accuracy_score(y_test, previsao_randomflorest))\n",
    "display(accuracy_score(y_test, previsao_knn))\n",
    "\n",
    "# modelo arvore de decisao teve mais acurácia, ela será escolhida"
   ]
  },
  {
   "cell_type": "markdown",
   "metadata": {},
   "source": [
    "Usar Modelo Para Fazer Novas Previsões"
   ]
  },
  {
   "cell_type": "code",
   "execution_count": 18,
   "metadata": {},
   "outputs": [
    {
     "data": {
      "text/html": [
       "<div>\n",
       "<style scoped>\n",
       "    .dataframe tbody tr th:only-of-type {\n",
       "        vertical-align: middle;\n",
       "    }\n",
       "\n",
       "    .dataframe tbody tr th {\n",
       "        vertical-align: top;\n",
       "    }\n",
       "\n",
       "    .dataframe thead th {\n",
       "        text-align: right;\n",
       "    }\n",
       "</style>\n",
       "<table border=\"1\" class=\"dataframe\">\n",
       "  <thead>\n",
       "    <tr style=\"text-align: right;\">\n",
       "      <th></th>\n",
       "      <th>mes</th>\n",
       "      <th>idade</th>\n",
       "      <th>profissao</th>\n",
       "      <th>salario_anual</th>\n",
       "      <th>num_contas</th>\n",
       "      <th>num_cartoes</th>\n",
       "      <th>juros_emprestimo</th>\n",
       "      <th>num_emprestimos</th>\n",
       "      <th>dias_atraso</th>\n",
       "      <th>num_pagamentos_atrasados</th>\n",
       "      <th>...</th>\n",
       "      <th>taxa_uso_credito</th>\n",
       "      <th>idade_historico_credito</th>\n",
       "      <th>investimento_mensal</th>\n",
       "      <th>comportamento_pagamento</th>\n",
       "      <th>saldo_final_mes</th>\n",
       "      <th>emprestimo_carro</th>\n",
       "      <th>emprestimo_casa</th>\n",
       "      <th>emprestimo_pessoal</th>\n",
       "      <th>emprestimo_credito</th>\n",
       "      <th>emprestimo_estudantil</th>\n",
       "    </tr>\n",
       "  </thead>\n",
       "  <tbody>\n",
       "    <tr>\n",
       "      <th>0</th>\n",
       "      <td>1</td>\n",
       "      <td>31.0</td>\n",
       "      <td>1</td>\n",
       "      <td>19300.340</td>\n",
       "      <td>6.0</td>\n",
       "      <td>7.0</td>\n",
       "      <td>17.0</td>\n",
       "      <td>5.0</td>\n",
       "      <td>52.0</td>\n",
       "      <td>19.0</td>\n",
       "      <td>...</td>\n",
       "      <td>29.934186</td>\n",
       "      <td>218.0</td>\n",
       "      <td>44.50951</td>\n",
       "      <td>1</td>\n",
       "      <td>312.487689</td>\n",
       "      <td>1</td>\n",
       "      <td>1</td>\n",
       "      <td>0</td>\n",
       "      <td>0</td>\n",
       "      <td>0</td>\n",
       "    </tr>\n",
       "    <tr>\n",
       "      <th>1</th>\n",
       "      <td>4</td>\n",
       "      <td>32.0</td>\n",
       "      <td>0</td>\n",
       "      <td>12600.445</td>\n",
       "      <td>5.0</td>\n",
       "      <td>5.0</td>\n",
       "      <td>10.0</td>\n",
       "      <td>3.0</td>\n",
       "      <td>25.0</td>\n",
       "      <td>18.0</td>\n",
       "      <td>...</td>\n",
       "      <td>28.819407</td>\n",
       "      <td>12.0</td>\n",
       "      <td>0.00000</td>\n",
       "      <td>2</td>\n",
       "      <td>300.994163</td>\n",
       "      <td>0</td>\n",
       "      <td>0</td>\n",
       "      <td>0</td>\n",
       "      <td>0</td>\n",
       "      <td>1</td>\n",
       "    </tr>\n",
       "    <tr>\n",
       "      <th>2</th>\n",
       "      <td>2</td>\n",
       "      <td>48.0</td>\n",
       "      <td>1</td>\n",
       "      <td>20787.690</td>\n",
       "      <td>8.0</td>\n",
       "      <td>6.0</td>\n",
       "      <td>14.0</td>\n",
       "      <td>7.0</td>\n",
       "      <td>24.0</td>\n",
       "      <td>14.0</td>\n",
       "      <td>...</td>\n",
       "      <td>34.235853</td>\n",
       "      <td>215.0</td>\n",
       "      <td>0.00000</td>\n",
       "      <td>0</td>\n",
       "      <td>345.081577</td>\n",
       "      <td>0</td>\n",
       "      <td>1</td>\n",
       "      <td>0</td>\n",
       "      <td>1</td>\n",
       "      <td>0</td>\n",
       "    </tr>\n",
       "  </tbody>\n",
       "</table>\n",
       "<p>3 rows × 23 columns</p>\n",
       "</div>"
      ],
      "text/plain": [
       "   mes  idade  profissao  salario_anual  num_contas  num_cartoes  \\\n",
       "0    1   31.0          1      19300.340         6.0          7.0   \n",
       "1    4   32.0          0      12600.445         5.0          5.0   \n",
       "2    2   48.0          1      20787.690         8.0          6.0   \n",
       "\n",
       "   juros_emprestimo  num_emprestimos  dias_atraso  num_pagamentos_atrasados  \\\n",
       "0              17.0              5.0         52.0                      19.0   \n",
       "1              10.0              3.0         25.0                      18.0   \n",
       "2              14.0              7.0         24.0                      14.0   \n",
       "\n",
       "   ...  taxa_uso_credito  idade_historico_credito  investimento_mensal  \\\n",
       "0  ...         29.934186                    218.0             44.50951   \n",
       "1  ...         28.819407                     12.0              0.00000   \n",
       "2  ...         34.235853                    215.0              0.00000   \n",
       "\n",
       "   comportamento_pagamento  saldo_final_mes  emprestimo_carro  \\\n",
       "0                        1       312.487689                 1   \n",
       "1                        2       300.994163                 0   \n",
       "2                        0       345.081577                 0   \n",
       "\n",
       "   emprestimo_casa  emprestimo_pessoal  emprestimo_credito  \\\n",
       "0                1                   0                   0   \n",
       "1                0                   0                   0   \n",
       "2                1                   0                   1   \n",
       "\n",
       "   emprestimo_estudantil  \n",
       "0                      0  \n",
       "1                      1  \n",
       "2                      0  \n",
       "\n",
       "[3 rows x 23 columns]"
      ]
     },
     "metadata": {},
     "output_type": "display_data"
    },
    {
     "data": {
      "text/plain": [
       "array(['Poor', 'Standard', 'Standard'], dtype=object)"
      ]
     },
     "metadata": {},
     "output_type": "display_data"
    }
   ],
   "source": [
    "# importar nova tabela\n",
    "novos_clientes = pd.read_csv('novos_clientes.csv')\n",
    "\n",
    "# tratar colunas\n",
    "novos_clientes['profissao'] = codificador.fit_transform(novos_clientes['profissao']) \n",
    "novos_clientes['mix_credito'] = codificador.fit_transform(novos_clientes['mix_credito'])\n",
    "novos_clientes['comportamento_pagamento'] = codificador.fit_transform(novos_clientes['comportamento_pagamento'])\n",
    "\n",
    "prev_novos_clientes = model_randomflorest.predict(novos_clientes)\n",
    "display(novos_clientes)\n",
    "display(prev_novos_clientes)\n",
    "\n"
   ]
  }
 ],
 "metadata": {
  "kernelspec": {
   "display_name": "base",
   "language": "python",
   "name": "python3"
  },
  "language_info": {
   "codemirror_mode": {
    "name": "ipython",
    "version": 3
   },
   "file_extension": ".py",
   "mimetype": "text/x-python",
   "name": "python",
   "nbconvert_exporter": "python",
   "pygments_lexer": "ipython3",
   "version": "3.11.7"
  }
 },
 "nbformat": 4,
 "nbformat_minor": 2
}
